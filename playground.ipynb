{
  "cells": [
    {
      "cell_type": "markdown",
      "id": "29e474ff",
      "metadata": {
        "id": "29e474ff"
      },
      "source": [
        "# Environment Setup\n"
      ]
    },
    {
      "cell_type": "code",
      "execution_count": 1,
      "id": "4d1882d4-25eb-4b02-b14e-3f6d93bb2dbf",
      "metadata": {
        "colab": {
          "base_uri": "https://localhost:8080/"
        },
        "id": "4d1882d4-25eb-4b02-b14e-3f6d93bb2dbf",
        "outputId": "1f670e22-969c-43b2-d36e-9f1373c3df83"
      },
      "outputs": [
        {
          "output_type": "stream",
          "name": "stderr",
          "text": [
            "2024-08-09 21:23:18.631226: I tensorflow/core/util/port.cc:153] oneDNN custom operations are on. You may see slightly different numerical results due to floating-point round-off errors from different computation orders. To turn them off, set the environment variable `TF_ENABLE_ONEDNN_OPTS=0`.\n",
            "2024-08-09 21:23:18.649418: E external/local_xla/xla/stream_executor/cuda/cuda_fft.cc:485] Unable to register cuFFT factory: Attempting to register factory for plugin cuFFT when one has already been registered\n",
            "2024-08-09 21:23:18.671751: E external/local_xla/xla/stream_executor/cuda/cuda_dnn.cc:8454] Unable to register cuDNN factory: Attempting to register factory for plugin cuDNN when one has already been registered\n",
            "2024-08-09 21:23:18.678501: E external/local_xla/xla/stream_executor/cuda/cuda_blas.cc:1452] Unable to register cuBLAS factory: Attempting to register factory for plugin cuBLAS when one has already been registered\n",
            "2024-08-09 21:23:18.695741: I tensorflow/core/platform/cpu_feature_guard.cc:210] This TensorFlow binary is optimized to use available CPU instructions in performance-critical operations.\n",
            "To enable the following instructions: AVX2 AVX512F AVX512_VNNI FMA, in other operations, rebuild TensorFlow with the appropriate compiler flags.\n",
            "2024-08-09 21:23:20.266655: W tensorflow/compiler/tf2tensorrt/utils/py_utils.cc:38] TF-TRT Warning: Could not find TensorRT\n"
          ]
        }
      ],
      "source": [
        "try:\n",
        "  import os\n",
        "  import torch\n",
        "  import evaluate\n",
        "  from nlpcw.utils import get_dataset, load_model, show_random_elements, tokenize_dataset\n",
        "  from transformers import (\n",
        "      Trainer,\n",
        "      TrainingArguments,\n",
        "      DataCollatorForTokenClassification,\n",
        "      EarlyStoppingCallback,\n",
        "  )\n",
        "  import numpy as np\n",
        "  import wandb\n",
        "  from pathlib import Path\n",
        "except:\n",
        "  !pip install -q git+https://github.com/cogniveon/nlpcw.git"
      ]
    },
    {
      "cell_type": "code",
      "execution_count": 2,
      "id": "e3a07079",
      "metadata": {
        "colab": {
          "base_uri": "https://localhost:8080/"
        },
        "id": "e3a07079",
        "outputId": "3c90d0a2-fe63-48d9-8f5a-037d9bae6eb3"
      },
      "outputs": [
        {
          "output_type": "stream",
          "name": "stdout",
          "text": [
            "env: WANDB_PROJECT=COMM061-NLP-CW\n",
            "env: WANDB_LOG_MODEL=end\n",
            "env: WANDB_SILENT=True\n"
          ]
        },
        {
          "output_type": "execute_result",
          "data": {
            "text/plain": [
              "True"
            ]
          },
          "metadata": {},
          "execution_count": 2
        }
      ],
      "source": [
        "%env WANDB_PROJECT=COMM061-NLP-CW\n",
        "%env WANDB_LOG_MODEL=end\n",
        "%env WANDB_SILENT=True\n",
        "wandb.login()"
      ]
    },
    {
      "cell_type": "markdown",
      "id": "7f180a15",
      "metadata": {
        "id": "7f180a15"
      },
      "source": [
        "## Config\n"
      ]
    },
    {
      "cell_type": "code",
      "execution_count": 3,
      "id": "a0d54d9f",
      "metadata": {
        "colab": {
          "base_uri": "https://localhost:8080/"
        },
        "id": "a0d54d9f",
        "outputId": "f4a05a63-4a18-47c2-bddd-67816f955f6a"
      },
      "outputs": [
        {
          "output_type": "stream",
          "name": "stdout",
          "text": [
            "env: TOKENIZERS_PARALLELISM=true\n"
          ]
        }
      ],
      "source": [
        "MODEL_NAME = \"romainlhardy/roberta-large-finetuned-ner\"\n",
        "# MODEL_NAME = \"google-bert/bert-base-uncased\"\n",
        "CHECKPOINT_PATH = None\n",
        "# CHECKPOINT_PATH = \"experiments/agile-navigator-qn9uu\"\n",
        "BATCH_SIZE = 8\n",
        "NUM_EPOCHS = 20\n",
        "\n",
        "%env TOKENIZERS_PARALLELISM true"
      ]
    },
    {
      "cell_type": "markdown",
      "id": "b5b368b9",
      "metadata": {
        "id": "b5b368b9"
      },
      "source": [
        "## Dataset\n"
      ]
    },
    {
      "cell_type": "code",
      "execution_count": 4,
      "id": "274eebf9",
      "metadata": {
        "colab": {
          "base_uri": "https://localhost:8080/",
          "height": 728
        },
        "id": "274eebf9",
        "outputId": "555e4acc-bcda-48b6-eaa4-93555fc8a0a7"
      },
      "outputs": [
        {
          "output_type": "display_data",
          "data": {
            "text/plain": [
              "<IPython.core.display.HTML object>"
            ],
            "text/html": [
              "<table border=\"1\" class=\"dataframe\">\n",
              "  <thead>\n",
              "    <tr style=\"text-align: right;\">\n",
              "      <th></th>\n",
              "      <th>tokens</th>\n",
              "      <th>ner_tags</th>\n",
              "    </tr>\n",
              "  </thead>\n",
              "  <tbody>\n",
              "    <tr>\n",
              "      <th>0</th>\n",
              "      <td>[BMI, ,, body, mass, index, ;, HR, ,, hazard, ratio, ;, SD, ,, standard, deviation, .]</td>\n",
              "      <td>[B-AC, B-O, B-LF, I-LF, I-LF, B-O, B-AC, B-O, B-LF, I-LF, B-O, B-AC, B-O, B-LF, I-LF, B-O]</td>\n",
              "    </tr>\n",
              "    <tr>\n",
              "      <th>1</th>\n",
              "      <td>[It, was, found, that, an, increase, in, the, optical, density, (, OD, ), of, the, formazan, dye, directly, correlates, with, the, metabolic, activity, of, the, cells, following, exposure, to, either, Pt, or, -DissPt, .]</td>\n",
              "      <td>[B-O, B-O, B-O, B-O, B-O, B-O, B-O, B-O, B-LF, I-LF, B-O, B-AC, B-O, B-O, B-O, B-O, B-O, B-O, B-O, B-O, B-O, B-O, B-O, B-O, B-O, B-O, B-O, B-O, B-O, B-O, B-AC, B-O, B-AC, B-O]</td>\n",
              "    </tr>\n",
              "    <tr>\n",
              "      <th>2</th>\n",
              "      <td>[Transcriptome, sequencing, analysis, detected, 106, differentially, expressed, genes, (, DEGs, ), related, to, oxidative, stress, .]</td>\n",
              "      <td>[B-O, B-O, B-O, B-O, B-O, B-LF, I-LF, I-LF, B-O, B-AC, B-O, B-O, B-O, B-O, B-O, B-O]</td>\n",
              "    </tr>\n",
              "    <tr>\n",
              "      <th>3</th>\n",
              "      <td>[As, shown, in, Fig, 1, ,, the, genetic, distance, estimates, between, the, Striga, resistant, lines, and, the, resistant, tester, were, broader, in, the, range, of, GD, values, than, those, between, the, Striga, -, resistant, and, susceptible, tester, ,, indicating, the, resistant, tester, was, considered, as, a, suitable, tester, .]</td>\n",
              "      <td>[B-O, B-O, B-O, B-O, B-O, B-O, B-O, B-LF, I-LF, B-O, B-O, B-O, B-O, B-O, B-O, B-O, B-O, B-O, B-O, B-O, B-O, B-O, B-O, B-O, B-O, B-AC, B-O, B-O, B-O, B-O, B-O, B-O, B-O, B-O, B-O, B-O, B-O, B-O, B-O, B-O, B-O, B-O, B-O, B-O, B-O, B-O, B-O, B-O, B-O]</td>\n",
              "    </tr>\n",
              "    <tr>\n",
              "      <th>4</th>\n",
              "      <td>[Pregnant, mice, were, intraperitoneally, injected, with, CdCl2, daily, from, gestational, day, (, GD)13, to, GD17, .]</td>\n",
              "      <td>[B-O, B-O, B-O, B-O, B-O, B-O, B-O, B-O, B-O, B-LF, I-LF, B-O, B-AC, B-O, B-O, B-O]</td>\n",
              "    </tr>\n",
              "    <tr>\n",
              "      <th>5</th>\n",
              "      <td>[,, reference, ;, R1, ,, positive, ;, R0, ,, negative, resection, margins, Malondialdehyde, acetaldehyde, -, modified, LDL, (, MAA, -, LDL, ), and, copper, -, oxidized, LDL, (, CuOx-LDL, ), were, prepared, as, described, [, 21, ], .]</td>\n",
              "      <td>[B-O, B-O, B-O, B-O, B-O, B-O, B-O, B-O, B-O, B-O, B-O, B-O, B-LF, I-LF, B-O, B-O, B-AC, B-O, B-AC, B-O, B-AC, B-O, B-O, B-O, B-O, B-O, B-AC, B-O, B-AC, B-O, B-O, B-O, B-O, B-O, B-O, B-O, B-O, B-O]</td>\n",
              "    </tr>\n",
              "    <tr>\n",
              "      <th>6</th>\n",
              "      <td>[Logistic, regression, analysis, showed, that, the, independent, factors, associated, with, mortality, were, postoperative, lactate, level, (, odds, ratio, [, OR, ], 1.926, ,, 95, %, confidence, interval, [, CI, ], 1.101–3.089, ,, p, =, 0.007, ), ,, postoperative, sequential, organ, failure, assessment, score, (, OR, 1.593, ,, 95, %, CI, 1.160–2.187, ,, p, =, 0.004, ), ,, and, DNI, on, POD1, (, OR, 1.118, ,, 95, %, CI, 1.028–1.215, ,, p, =, 0.009, ), .]</td>\n",
              "      <td>[B-O, B-O, B-O, B-O, B-O, B-O, B-O, B-O, B-O, B-O, B-O, B-O, B-O, B-O, B-O, B-O, B-LF, I-LF, B-O, B-AC, B-O, B-O, B-O, B-O, B-O, B-LF, I-LF, B-O, B-AC, B-O, B-O, B-O, B-O, B-O, B-O, B-O, B-O, B-O, B-O, B-O, B-O, B-O, B-O, B-O, B-AC, B-O, B-O, B-O, B-O, B-AC, B-O, B-O, B-O, B-O, B-O, B-O, B-O, B-O, B-AC, B-O, B-O, B-O, B-AC, B-O, B-O, B-O, B-O, B-AC, B-O, B-O, B-O, B-O, B-O, B-O, B-O]</td>\n",
              "    </tr>\n",
              "    <tr>\n",
              "      <th>7</th>\n",
              "      <td>[), Third, ,, the, cross, -, correlation, analysis, across, different, frequencies, (, Fig, 2A, ), indicated, that, relationships, were, specific, to, the, theta, band, .]</td>\n",
              "      <td>[B-O, B-O, B-O, B-O, B-O, B-O, B-O, B-O, B-O, B-O, B-O, B-O, B-O, B-O, B-O, B-O, B-O, B-O, B-O, B-O, B-O, B-O, B-O, B-O, B-O]</td>\n",
              "    </tr>\n",
              "    <tr>\n",
              "      <th>8</th>\n",
              "      <td>[Those, incident, cases, with, sequelae, (, or, diseased, individuals, ), were, assigned, years, of, life, lost, (, YLLs, ), if, fatal, or, years, lived, with, disability, (, YLDs, ), with, a, disability, weight, (, DW, ), that, depended, on, the, severity, of, the, disease, .]</td>\n",
              "      <td>[B-O, B-O, B-O, B-O, B-O, B-O, B-O, B-O, B-O, B-O, B-O, B-O, B-LF, I-LF, I-LF, I-LF, B-O, B-AC, B-O, B-O, B-O, B-O, B-LF, I-LF, I-LF, I-LF, B-O, B-AC, B-O, B-O, B-O, B-LF, I-LF, B-O, B-AC, B-O, B-O, B-O, B-O, B-O, B-O, B-O, B-O, B-O, B-O]</td>\n",
              "    </tr>\n",
              "    <tr>\n",
              "      <th>9</th>\n",
              "      <td>[ADC, ,, Apparent, Diffusion, Coefficient, ;, IPca, ,, insignificant, prostate, cancer, ;, CSPca, ,, clinically, significant, prostate, cancer, .]</td>\n",
              "      <td>[B-AC, B-O, B-LF, I-LF, I-LF, B-O, B-AC, B-O, B-LF, I-LF, I-LF, B-O, B-AC, B-O, B-LF, I-LF, I-LF, I-LF, B-O]</td>\n",
              "    </tr>\n",
              "  </tbody>\n",
              "</table>"
            ]
          },
          "metadata": {}
        }
      ],
      "source": [
        "dataset, id2label, label2id, num_labels = get_dataset()\n",
        "label_list = dataset[\"train\"].features[\"ner_tags\"].feature.names  # type: ignore\n",
        "show_random_elements(dataset[\"train\"])  # type: ignore"
      ]
    },
    {
      "cell_type": "markdown",
      "id": "61b8c00a",
      "metadata": {
        "id": "61b8c00a"
      },
      "source": [
        "## Model\n"
      ]
    },
    {
      "cell_type": "code",
      "execution_count": 5,
      "id": "58a9a226",
      "metadata": {
        "colab": {
          "base_uri": "https://localhost:8080/"
        },
        "id": "58a9a226",
        "outputId": "6242ef2f-88e4-48f3-9af3-016ff7ee0c2d"
      },
      "outputs": [
        {
          "output_type": "stream",
          "name": "stderr",
          "text": [
            "Some weights of BertForTokenClassification were not initialized from the model checkpoint at google-bert/bert-base-uncased and are newly initialized: ['classifier.bias', 'classifier.weight']\n",
            "You should probably TRAIN this model on a down-stream task to be able to use it for predictions and inference.\n"
          ]
        },
        {
          "output_type": "stream",
          "name": "stdout",
          "text": [
            "save_path=PosixPath('experiments/keen-scholar-dpJoF')\n"
          ]
        }
      ],
      "source": [
        "tokenizer, config_model, model, save_path = load_model(\n",
        "    exp_or_model_name=MODEL_NAME if CHECKPOINT_PATH == None else CHECKPOINT_PATH,\n",
        "    num_labels=num_labels,\n",
        "    id2label=id2label,\n",
        "    label2id=label2id,\n",
        ")\n",
        "# tokenizer.save_pretrained(save_path)\n",
        "# model.save_pretrained(save_path)\n",
        "# config_model.save_pretrained(save_path)\n",
        "print(f\"{save_path=}\")"
      ]
    },
    {
      "cell_type": "markdown",
      "id": "473e1e88",
      "metadata": {
        "id": "473e1e88"
      },
      "source": [
        "## Dataset Exploration\n"
      ]
    },
    {
      "cell_type": "code",
      "execution_count": 6,
      "id": "4d6f853f-7a99-484c-90ea-37effc71a88a",
      "metadata": {
        "colab": {
          "base_uri": "https://localhost:8080/"
        },
        "id": "4d6f853f-7a99-484c-90ea-37effc71a88a",
        "outputId": "6c0bf7ae-bf71-49c0-e4ec-4cab698b9956"
      },
      "outputs": [
        {
          "output_type": "stream",
          "name": "stdout",
          "text": [
            "['Furthermore', ',', 'eNOS', '-', 'derived', 'NO', 'S', '-', 'nitrosylated', 'β', '-', 'actin', 'on', 'Cys374', 'and', 'impaired', 'actin', 'binding', 'to', 'profilin-1', '(', 'PFN1', ')', ',', 'as', 'confirmed', 'with', 'the', 'transnitrosylating', 'agent', 'S', '-', 'nitroso', '-', 'L', '-', 'cysteine', '(', 'Cys-NO', ')', '.']\n",
            "[0, 0, 1, 0, 0, 1, 0, 0, 0, 0, 0, 0, 0, 0, 0, 0, 0, 0, 0, 3, 0, 1, 0, 0, 0, 0, 0, 0, 0, 0, 3, 4, 4, 4, 4, 4, 4, 0, 1, 0, 0]\n"
          ]
        }
      ],
      "source": [
        "example = dataset[\"train\"][4]  # type: ignore\n",
        "print(example[\"tokens\"])\n",
        "print(example[\"ner_tags\"])"
      ]
    },
    {
      "cell_type": "code",
      "execution_count": 7,
      "id": "91cf3be6",
      "metadata": {
        "colab": {
          "base_uri": "https://localhost:8080/"
        },
        "id": "91cf3be6",
        "outputId": "77f05257-db98-4d48-b4a9-8fa1f673d1f0"
      },
      "outputs": [
        {
          "output_type": "stream",
          "name": "stdout",
          "text": [
            "['[CLS]', 'furthermore', ',', 'en', '##os', '-', 'derived', 'no', 's', '-', 'ni', '##tro', '##sy', '##lated', 'β', '-', 'act', '##in', 'on', 'cy', '##s', '##37', '##4', 'and', 'impaired', 'act', '##in', 'binding', 'to', 'prof', '##ili', '##n', '-', '1', '(', 'p', '##f', '##n', '##1', ')', ',', 'as', 'confirmed', 'with', 'the', 'trans', '##ni', '##tro', '##sy', '##lating', 'agent', 's', '-', 'ni', '##tro', '##so', '-', 'l', '-', 'cy', '##stein', '##e', '(', 'cy', '##s', '-', 'no', ')', '.', '[SEP]']\n"
          ]
        }
      ],
      "source": [
        "tokenized_input = tokenizer(example[\"tokens\"], is_split_into_words=True)\n",
        "tokens = tokenizer.convert_ids_to_tokens(tokenized_input[\"input_ids\"])  # type: ignore\n",
        "print(tokens)"
      ]
    },
    {
      "cell_type": "code",
      "execution_count": 8,
      "id": "78dd46d7",
      "metadata": {
        "colab": {
          "base_uri": "https://localhost:8080/"
        },
        "id": "78dd46d7",
        "outputId": "4b3b2cf0-eee3-4dc8-b5d8-4dc03e8fac0e"
      },
      "outputs": [
        {
          "output_type": "execute_result",
          "data": {
            "text/plain": [
              "(41, 70)"
            ]
          },
          "metadata": {},
          "execution_count": 8
        }
      ],
      "source": [
        "len(example[f\"ner_tags\"]), len(tokenized_input[\"input_ids\"])  # type: ignore"
      ]
    },
    {
      "cell_type": "code",
      "execution_count": 9,
      "id": "2ff516f1",
      "metadata": {
        "colab": {
          "base_uri": "https://localhost:8080/"
        },
        "id": "2ff516f1",
        "outputId": "c7340529-1ade-40f1-d7d3-acae35637e68"
      },
      "outputs": [
        {
          "output_type": "stream",
          "name": "stdout",
          "text": [
            "70 70\n"
          ]
        }
      ],
      "source": [
        "word_ids = tokenized_input.word_ids()\n",
        "aligned_labels = [-100 if i is None else example[f\"ner_tags\"][i] for i in word_ids]\n",
        "print(len(aligned_labels), len(tokenized_input[\"input_ids\"]))  # type: ignore"
      ]
    },
    {
      "cell_type": "markdown",
      "id": "159f96e7",
      "metadata": {
        "id": "159f96e7"
      },
      "source": [
        "## Training\n"
      ]
    },
    {
      "cell_type": "code",
      "execution_count": 10,
      "id": "5bbe2e07",
      "metadata": {
        "colab": {
          "base_uri": "https://localhost:8080/",
          "height": 299,
          "referenced_widgets": [
            "0905600dcc3042099cf5e6326aaf702e",
            "3ab2d8d820e740b6a72a8c0f9e2b3d2c",
            "93442191c64b4db7854e7bb1f25798c8",
            "b87ef91105cd4916b92b132516b631e9",
            "1a507477f78d4c8fb93798dcd1292e6c",
            "cfe42c0cfe9e41f2bf0c46b380ea5233",
            "dd6216f78d124e64b13f6767f6e57c7f",
            "cfbf2eb7c2aa4197b031064e176aa52e",
            "928aa59202f643ec93da1da368e27397",
            "15e72fdb057c4e7a9d49b561b732d061",
            "d26c618086d94ec1a2588ca2c2b929f2"
          ]
        },
        "id": "5bbe2e07",
        "outputId": "7ba61004-7f3b-4b70-ac58-2de788e186b0"
      },
      "outputs": [
        {
          "output_type": "display_data",
          "data": {
            "text/plain": [
              "Tokenizing dataset:   0%|          | 0/126 [00:00<?, ? examples/s]"
            ],
            "application/vnd.jupyter.widget-view+json": {
              "version_major": 2,
              "version_minor": 0,
              "model_id": "0905600dcc3042099cf5e6326aaf702e"
            }
          },
          "metadata": {}
        },
        {
          "output_type": "execute_result",
          "data": {
            "text/plain": [
              "DatasetDict({\n",
              "    train: Dataset({\n",
              "        features: ['tokens', 'ner_tags', 'input_ids', 'token_type_ids', 'attention_mask', 'labels'],\n",
              "        num_rows: 1072\n",
              "    })\n",
              "    validation: Dataset({\n",
              "        features: ['tokens', 'ner_tags', 'input_ids', 'token_type_ids', 'attention_mask', 'labels'],\n",
              "        num_rows: 126\n",
              "    })\n",
              "    test: Dataset({\n",
              "        features: ['tokens', 'ner_tags', 'input_ids', 'token_type_ids', 'attention_mask', 'labels'],\n",
              "        num_rows: 153\n",
              "    })\n",
              "})"
            ]
          },
          "metadata": {},
          "execution_count": 10
        }
      ],
      "source": [
        "tokenized_dataset = tokenize_dataset(dataset, tokenizer)\n",
        "tokenized_dataset"
      ]
    },
    {
      "cell_type": "code",
      "execution_count": 11,
      "id": "380c4cf1",
      "metadata": {
        "id": "380c4cf1"
      },
      "outputs": [],
      "source": [
        "metric = evaluate.load(\"seqeval\")\n",
        "data_collator = DataCollatorForTokenClassification(tokenizer)\n",
        "\n",
        "def compute_metrics(p):\n",
        "    predictions, labels = p\n",
        "    predictions = np.argmax(predictions, axis=2)\n",
        "\n",
        "    # Remove ignored index (special tokens)\n",
        "    true_predictions = [\n",
        "        [label_list[p] for (p, l) in zip(prediction, label) if l != -100]\n",
        "        for prediction, label in zip(predictions, labels)\n",
        "    ]\n",
        "    true_labels = [\n",
        "        [label_list[l] for (p, l) in zip(prediction, label) if l != -100]\n",
        "        for prediction, label in zip(predictions, labels)\n",
        "    ]\n",
        "\n",
        "    results = metric.compute(predictions=true_predictions, references=true_labels)\n",
        "    assert results != None\n",
        "    return {\n",
        "        \"precision\": results[\"overall_precision\"],\n",
        "        \"recall\": results[\"overall_recall\"],\n",
        "        \"f1\": results[\"overall_f1\"],\n",
        "        \"accuracy\": results[\"overall_accuracy\"],\n",
        "    }\n",
        "\n",
        "\n",
        "args = TrainingArguments(\n",
        "    output_dir=str(save_path),\n",
        "    run_name=Path(save_path).name,\n",
        "    overwrite_output_dir=True,\n",
        "    eval_strategy=\"epoch\",\n",
        "    save_strategy=\"epoch\",\n",
        "    logging_steps=50,\n",
        "    save_total_limit=1,\n",
        "    learning_rate=1e-6,\n",
        "    per_device_train_batch_size=BATCH_SIZE,\n",
        "    per_device_eval_batch_size=BATCH_SIZE,\n",
        "    gradient_accumulation_steps=4,\n",
        "    num_train_epochs=NUM_EPOCHS,\n",
        "    weight_decay=0.001,\n",
        "    metric_for_best_model=\"f1\",\n",
        "    load_best_model_at_end=True,\n",
        ")\n",
        "\n",
        "\n",
        "trainer = Trainer(\n",
        "    model,\n",
        "    args,\n",
        "    train_dataset=tokenized_dataset[\"train\"],  # type: ignore\n",
        "    eval_dataset=tokenized_dataset[\"validation\"],  # type: ignore\n",
        "    data_collator=data_collator,\n",
        "    tokenizer=tokenizer,\n",
        "    compute_metrics=compute_metrics,\n",
        "    callbacks=[EarlyStoppingCallback(early_stopping_patience=3)],\n",
        ")"
      ]
    },
    {
      "cell_type": "code",
      "execution_count": 12,
      "id": "2f6480bb",
      "metadata": {
        "colab": {
          "base_uri": "https://localhost:8080/",
          "height": 389
        },
        "id": "2f6480bb",
        "outputId": "008dd544-5cbe-4596-baf5-0008046f9fd6"
      },
      "outputs": [
        {
          "output_type": "display_data",
          "data": {
            "text/plain": [
              "<IPython.core.display.HTML object>"
            ],
            "text/html": [
              "\n",
              "    <div>\n",
              "      \n",
              "      <progress value='670' max='670' style='width:300px; height:20px; vertical-align: middle;'></progress>\n",
              "      [670/670 02:43, Epoch 10/10]\n",
              "    </div>\n",
              "    <table border=\"1\" class=\"dataframe\">\n",
              "  <thead>\n",
              " <tr style=\"text-align: left;\">\n",
              "      <th>Epoch</th>\n",
              "      <th>Training Loss</th>\n",
              "      <th>Validation Loss</th>\n",
              "      <th>Precision</th>\n",
              "      <th>Recall</th>\n",
              "      <th>F1</th>\n",
              "      <th>Accuracy</th>\n",
              "    </tr>\n",
              "  </thead>\n",
              "  <tbody>\n",
              "    <tr>\n",
              "      <td>1</td>\n",
              "      <td>0.829300</td>\n",
              "      <td>0.353305</td>\n",
              "      <td>0.880895</td>\n",
              "      <td>0.896586</td>\n",
              "      <td>0.888671</td>\n",
              "      <td>0.873721</td>\n",
              "    </tr>\n",
              "    <tr>\n",
              "      <td>2</td>\n",
              "      <td>0.396500</td>\n",
              "      <td>0.265327</td>\n",
              "      <td>0.921830</td>\n",
              "      <td>0.900544</td>\n",
              "      <td>0.911063</td>\n",
              "      <td>0.901206</td>\n",
              "    </tr>\n",
              "    <tr>\n",
              "      <td>3</td>\n",
              "      <td>0.256100</td>\n",
              "      <td>0.233448</td>\n",
              "      <td>0.926667</td>\n",
              "      <td>0.917038</td>\n",
              "      <td>0.921827</td>\n",
              "      <td>0.918155</td>\n",
              "    </tr>\n",
              "    <tr>\n",
              "      <td>4</td>\n",
              "      <td>0.229000</td>\n",
              "      <td>0.220069</td>\n",
              "      <td>0.930903</td>\n",
              "      <td>0.926604</td>\n",
              "      <td>0.928749</td>\n",
              "      <td>0.924263</td>\n",
              "    </tr>\n",
              "    <tr>\n",
              "      <td>5</td>\n",
              "      <td>0.209200</td>\n",
              "      <td>0.227226</td>\n",
              "      <td>0.931115</td>\n",
              "      <td>0.922975</td>\n",
              "      <td>0.927027</td>\n",
              "      <td>0.922126</td>\n",
              "    </tr>\n",
              "    <tr>\n",
              "      <td>6</td>\n",
              "      <td>0.170800</td>\n",
              "      <td>0.221797</td>\n",
              "      <td>0.933223</td>\n",
              "      <td>0.928913</td>\n",
              "      <td>0.931063</td>\n",
              "      <td>0.927164</td>\n",
              "    </tr>\n",
              "    <tr>\n",
              "      <td>7</td>\n",
              "      <td>0.164100</td>\n",
              "      <td>0.224207</td>\n",
              "      <td>0.935259</td>\n",
              "      <td>0.929243</td>\n",
              "      <td>0.932241</td>\n",
              "      <td>0.927470</td>\n",
              "    </tr>\n",
              "    <tr>\n",
              "      <td>8</td>\n",
              "      <td>0.154000</td>\n",
              "      <td>0.227959</td>\n",
              "      <td>0.936326</td>\n",
              "      <td>0.928913</td>\n",
              "      <td>0.932605</td>\n",
              "      <td>0.928386</td>\n",
              "    </tr>\n",
              "    <tr>\n",
              "      <td>9</td>\n",
              "      <td>0.151200</td>\n",
              "      <td>0.226928</td>\n",
              "      <td>0.936244</td>\n",
              "      <td>0.930068</td>\n",
              "      <td>0.933146</td>\n",
              "      <td>0.928539</td>\n",
              "    </tr>\n",
              "    <tr>\n",
              "      <td>10</td>\n",
              "      <td>0.133800</td>\n",
              "      <td>0.228919</td>\n",
              "      <td>0.936753</td>\n",
              "      <td>0.930727</td>\n",
              "      <td>0.933730</td>\n",
              "      <td>0.929455</td>\n",
              "    </tr>\n",
              "  </tbody>\n",
              "</table><p>"
            ]
          },
          "metadata": {}
        }
      ],
      "source": [
        "%%wandb\n",
        "trainer.train()\n",
        "wandb.finish()"
      ]
    }
  ],
  "metadata": {
    "kernelspec": {
      "display_name": "Python 3",
      "name": "python3"
    },
    "language_info": {
      "codemirror_mode": {
        "name": "ipython",
        "version": 3
      },
      "file_extension": ".py",
      "mimetype": "text/x-python",
      "name": "python",
      "nbconvert_exporter": "python",
      "pygments_lexer": "ipython3",
      "version": "3.11.9"
    },
    "colab": {
      "provenance": [],
      "machine_shape": "hm",
      "gpuType": "L4"
    },
    "accelerator": "GPU",
    "widgets": {
      "application/vnd.jupyter.widget-state+json": {
        "0905600dcc3042099cf5e6326aaf702e": {
          "model_module": "@jupyter-widgets/controls",
          "model_name": "HBoxModel",
          "model_module_version": "1.5.0",
          "state": {
            "_dom_classes": [],
            "_model_module": "@jupyter-widgets/controls",
            "_model_module_version": "1.5.0",
            "_model_name": "HBoxModel",
            "_view_count": null,
            "_view_module": "@jupyter-widgets/controls",
            "_view_module_version": "1.5.0",
            "_view_name": "HBoxView",
            "box_style": "",
            "children": [
              "IPY_MODEL_3ab2d8d820e740b6a72a8c0f9e2b3d2c",
              "IPY_MODEL_93442191c64b4db7854e7bb1f25798c8",
              "IPY_MODEL_b87ef91105cd4916b92b132516b631e9"
            ],
            "layout": "IPY_MODEL_1a507477f78d4c8fb93798dcd1292e6c"
          }
        },
        "3ab2d8d820e740b6a72a8c0f9e2b3d2c": {
          "model_module": "@jupyter-widgets/controls",
          "model_name": "HTMLModel",
          "model_module_version": "1.5.0",
          "state": {
            "_dom_classes": [],
            "_model_module": "@jupyter-widgets/controls",
            "_model_module_version": "1.5.0",
            "_model_name": "HTMLModel",
            "_view_count": null,
            "_view_module": "@jupyter-widgets/controls",
            "_view_module_version": "1.5.0",
            "_view_name": "HTMLView",
            "description": "",
            "description_tooltip": null,
            "layout": "IPY_MODEL_cfe42c0cfe9e41f2bf0c46b380ea5233",
            "placeholder": "​",
            "style": "IPY_MODEL_dd6216f78d124e64b13f6767f6e57c7f",
            "value": "Tokenizing dataset: 100%"
          }
        },
        "93442191c64b4db7854e7bb1f25798c8": {
          "model_module": "@jupyter-widgets/controls",
          "model_name": "FloatProgressModel",
          "model_module_version": "1.5.0",
          "state": {
            "_dom_classes": [],
            "_model_module": "@jupyter-widgets/controls",
            "_model_module_version": "1.5.0",
            "_model_name": "FloatProgressModel",
            "_view_count": null,
            "_view_module": "@jupyter-widgets/controls",
            "_view_module_version": "1.5.0",
            "_view_name": "ProgressView",
            "bar_style": "success",
            "description": "",
            "description_tooltip": null,
            "layout": "IPY_MODEL_cfbf2eb7c2aa4197b031064e176aa52e",
            "max": 126,
            "min": 0,
            "orientation": "horizontal",
            "style": "IPY_MODEL_928aa59202f643ec93da1da368e27397",
            "value": 126
          }
        },
        "b87ef91105cd4916b92b132516b631e9": {
          "model_module": "@jupyter-widgets/controls",
          "model_name": "HTMLModel",
          "model_module_version": "1.5.0",
          "state": {
            "_dom_classes": [],
            "_model_module": "@jupyter-widgets/controls",
            "_model_module_version": "1.5.0",
            "_model_name": "HTMLModel",
            "_view_count": null,
            "_view_module": "@jupyter-widgets/controls",
            "_view_module_version": "1.5.0",
            "_view_name": "HTMLView",
            "description": "",
            "description_tooltip": null,
            "layout": "IPY_MODEL_15e72fdb057c4e7a9d49b561b732d061",
            "placeholder": "​",
            "style": "IPY_MODEL_d26c618086d94ec1a2588ca2c2b929f2",
            "value": " 126/126 [00:00&lt;00:00, 2952.88 examples/s]"
          }
        },
        "1a507477f78d4c8fb93798dcd1292e6c": {
          "model_module": "@jupyter-widgets/base",
          "model_name": "LayoutModel",
          "model_module_version": "1.2.0",
          "state": {
            "_model_module": "@jupyter-widgets/base",
            "_model_module_version": "1.2.0",
            "_model_name": "LayoutModel",
            "_view_count": null,
            "_view_module": "@jupyter-widgets/base",
            "_view_module_version": "1.2.0",
            "_view_name": "LayoutView",
            "align_content": null,
            "align_items": null,
            "align_self": null,
            "border": null,
            "bottom": null,
            "display": null,
            "flex": null,
            "flex_flow": null,
            "grid_area": null,
            "grid_auto_columns": null,
            "grid_auto_flow": null,
            "grid_auto_rows": null,
            "grid_column": null,
            "grid_gap": null,
            "grid_row": null,
            "grid_template_areas": null,
            "grid_template_columns": null,
            "grid_template_rows": null,
            "height": null,
            "justify_content": null,
            "justify_items": null,
            "left": null,
            "margin": null,
            "max_height": null,
            "max_width": null,
            "min_height": null,
            "min_width": null,
            "object_fit": null,
            "object_position": null,
            "order": null,
            "overflow": null,
            "overflow_x": null,
            "overflow_y": null,
            "padding": null,
            "right": null,
            "top": null,
            "visibility": null,
            "width": null
          }
        },
        "cfe42c0cfe9e41f2bf0c46b380ea5233": {
          "model_module": "@jupyter-widgets/base",
          "model_name": "LayoutModel",
          "model_module_version": "1.2.0",
          "state": {
            "_model_module": "@jupyter-widgets/base",
            "_model_module_version": "1.2.0",
            "_model_name": "LayoutModel",
            "_view_count": null,
            "_view_module": "@jupyter-widgets/base",
            "_view_module_version": "1.2.0",
            "_view_name": "LayoutView",
            "align_content": null,
            "align_items": null,
            "align_self": null,
            "border": null,
            "bottom": null,
            "display": null,
            "flex": null,
            "flex_flow": null,
            "grid_area": null,
            "grid_auto_columns": null,
            "grid_auto_flow": null,
            "grid_auto_rows": null,
            "grid_column": null,
            "grid_gap": null,
            "grid_row": null,
            "grid_template_areas": null,
            "grid_template_columns": null,
            "grid_template_rows": null,
            "height": null,
            "justify_content": null,
            "justify_items": null,
            "left": null,
            "margin": null,
            "max_height": null,
            "max_width": null,
            "min_height": null,
            "min_width": null,
            "object_fit": null,
            "object_position": null,
            "order": null,
            "overflow": null,
            "overflow_x": null,
            "overflow_y": null,
            "padding": null,
            "right": null,
            "top": null,
            "visibility": null,
            "width": null
          }
        },
        "dd6216f78d124e64b13f6767f6e57c7f": {
          "model_module": "@jupyter-widgets/controls",
          "model_name": "DescriptionStyleModel",
          "model_module_version": "1.5.0",
          "state": {
            "_model_module": "@jupyter-widgets/controls",
            "_model_module_version": "1.5.0",
            "_model_name": "DescriptionStyleModel",
            "_view_count": null,
            "_view_module": "@jupyter-widgets/base",
            "_view_module_version": "1.2.0",
            "_view_name": "StyleView",
            "description_width": ""
          }
        },
        "cfbf2eb7c2aa4197b031064e176aa52e": {
          "model_module": "@jupyter-widgets/base",
          "model_name": "LayoutModel",
          "model_module_version": "1.2.0",
          "state": {
            "_model_module": "@jupyter-widgets/base",
            "_model_module_version": "1.2.0",
            "_model_name": "LayoutModel",
            "_view_count": null,
            "_view_module": "@jupyter-widgets/base",
            "_view_module_version": "1.2.0",
            "_view_name": "LayoutView",
            "align_content": null,
            "align_items": null,
            "align_self": null,
            "border": null,
            "bottom": null,
            "display": null,
            "flex": null,
            "flex_flow": null,
            "grid_area": null,
            "grid_auto_columns": null,
            "grid_auto_flow": null,
            "grid_auto_rows": null,
            "grid_column": null,
            "grid_gap": null,
            "grid_row": null,
            "grid_template_areas": null,
            "grid_template_columns": null,
            "grid_template_rows": null,
            "height": null,
            "justify_content": null,
            "justify_items": null,
            "left": null,
            "margin": null,
            "max_height": null,
            "max_width": null,
            "min_height": null,
            "min_width": null,
            "object_fit": null,
            "object_position": null,
            "order": null,
            "overflow": null,
            "overflow_x": null,
            "overflow_y": null,
            "padding": null,
            "right": null,
            "top": null,
            "visibility": null,
            "width": null
          }
        },
        "928aa59202f643ec93da1da368e27397": {
          "model_module": "@jupyter-widgets/controls",
          "model_name": "ProgressStyleModel",
          "model_module_version": "1.5.0",
          "state": {
            "_model_module": "@jupyter-widgets/controls",
            "_model_module_version": "1.5.0",
            "_model_name": "ProgressStyleModel",
            "_view_count": null,
            "_view_module": "@jupyter-widgets/base",
            "_view_module_version": "1.2.0",
            "_view_name": "StyleView",
            "bar_color": null,
            "description_width": ""
          }
        },
        "15e72fdb057c4e7a9d49b561b732d061": {
          "model_module": "@jupyter-widgets/base",
          "model_name": "LayoutModel",
          "model_module_version": "1.2.0",
          "state": {
            "_model_module": "@jupyter-widgets/base",
            "_model_module_version": "1.2.0",
            "_model_name": "LayoutModel",
            "_view_count": null,
            "_view_module": "@jupyter-widgets/base",
            "_view_module_version": "1.2.0",
            "_view_name": "LayoutView",
            "align_content": null,
            "align_items": null,
            "align_self": null,
            "border": null,
            "bottom": null,
            "display": null,
            "flex": null,
            "flex_flow": null,
            "grid_area": null,
            "grid_auto_columns": null,
            "grid_auto_flow": null,
            "grid_auto_rows": null,
            "grid_column": null,
            "grid_gap": null,
            "grid_row": null,
            "grid_template_areas": null,
            "grid_template_columns": null,
            "grid_template_rows": null,
            "height": null,
            "justify_content": null,
            "justify_items": null,
            "left": null,
            "margin": null,
            "max_height": null,
            "max_width": null,
            "min_height": null,
            "min_width": null,
            "object_fit": null,
            "object_position": null,
            "order": null,
            "overflow": null,
            "overflow_x": null,
            "overflow_y": null,
            "padding": null,
            "right": null,
            "top": null,
            "visibility": null,
            "width": null
          }
        },
        "d26c618086d94ec1a2588ca2c2b929f2": {
          "model_module": "@jupyter-widgets/controls",
          "model_name": "DescriptionStyleModel",
          "model_module_version": "1.5.0",
          "state": {
            "_model_module": "@jupyter-widgets/controls",
            "_model_module_version": "1.5.0",
            "_model_name": "DescriptionStyleModel",
            "_view_count": null,
            "_view_module": "@jupyter-widgets/base",
            "_view_module_version": "1.2.0",
            "_view_name": "StyleView",
            "description_width": ""
          }
        }
      }
    }
  },
  "nbformat": 4,
  "nbformat_minor": 5
}