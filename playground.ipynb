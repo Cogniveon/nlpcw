{
 "cells": [
  {
   "cell_type": "markdown",
   "id": "29e474ff",
   "metadata": {},
   "source": [
    "# Environment Setup\n"
   ]
  },
  {
   "cell_type": "code",
   "execution_count": null,
   "id": "4d1882d4-25eb-4b02-b14e-3f6d93bb2dbf",
   "metadata": {},
   "outputs": [],
   "source": [
    "import os\n",
    "import torch\n",
    "import evaluate\n",
    "from nlpcw.utils import get_dataset, load_model, show_random_elements, tokenize_dataset\n",
    "from transformers import (\n",
    "    Trainer,\n",
    "    TrainingArguments,\n",
    "    DataCollatorForTokenClassification,\n",
    "    EarlyStoppingCallback,\n",
    ")\n",
    "import numpy as np\n",
    "import wandb\n",
    "from pathlib import Path"
   ]
  },
  {
   "cell_type": "code",
   "execution_count": null,
   "id": "e3a07079",
   "metadata": {},
   "outputs": [],
   "source": [
    "wandb.login()"
   ]
  },
  {
   "cell_type": "markdown",
   "id": "7f180a15",
   "metadata": {},
   "source": [
    "## Config\n"
   ]
  },
  {
   "cell_type": "code",
   "execution_count": null,
   "id": "a0d54d9f",
   "metadata": {},
   "outputs": [],
   "source": [
    "MODEL_NAME = \"romainlhardy/roberta-large-finetuned-ner\"\n",
    "CHECKPOINT_PATH = None\n",
    "# CHECKPOINT_PATH = \"experiments/agile-navigator-qn9uu\"\n",
    "BATCH_SIZE = 1\n",
    "NUM_EPOCHS = 10"
   ]
  },
  {
   "cell_type": "markdown",
   "id": "b5b368b9",
   "metadata": {},
   "source": [
    "## Dataset\n"
   ]
  },
  {
   "cell_type": "code",
   "execution_count": null,
   "id": "274eebf9",
   "metadata": {},
   "outputs": [],
   "source": [
    "dataset, id2label, label2id, num_labels = get_dataset()\n",
    "label_list = dataset[\"train\"].features[\"ner_tags\"].feature.names  # type: ignore\n",
    "show_random_elements(dataset[\"train\"])  # type: ignore"
   ]
  },
  {
   "cell_type": "markdown",
   "id": "61b8c00a",
   "metadata": {},
   "source": [
    "## Model\n"
   ]
  },
  {
   "cell_type": "code",
   "execution_count": null,
   "id": "58a9a226",
   "metadata": {},
   "outputs": [],
   "source": [
    "tokenizer, config_model, model, save_path = load_model(\n",
    "    exp_or_model_name=MODEL_NAME if CHECKPOINT_PATH == None else CHECKPOINT_PATH,\n",
    "    num_labels=num_labels,\n",
    "    id2label=id2label,\n",
    "    label2id=label2id,\n",
    ")\n",
    "# tokenizer.save_pretrained(save_path)\n",
    "# model.save_pretrained(save_path)\n",
    "# config_model.save_pretrained(save_path)\n",
    "print(f\"{save_path=}\")"
   ]
  },
  {
   "cell_type": "markdown",
   "id": "473e1e88",
   "metadata": {},
   "source": [
    "## Dataset Exploration\n"
   ]
  },
  {
   "cell_type": "code",
   "execution_count": null,
   "id": "4d6f853f-7a99-484c-90ea-37effc71a88a",
   "metadata": {},
   "outputs": [],
   "source": [
    "example = dataset[\"train\"][4]  # type: ignore\n",
    "print(example[\"tokens\"])\n",
    "print(example[\"ner_tags\"])"
   ]
  },
  {
   "cell_type": "code",
   "execution_count": null,
   "id": "91cf3be6",
   "metadata": {},
   "outputs": [],
   "source": [
    "tokenized_input = tokenizer(example[\"tokens\"], is_split_into_words=True)\n",
    "tokens = tokenizer.convert_ids_to_tokens(tokenized_input[\"input_ids\"])  # type: ignore\n",
    "print(tokens)"
   ]
  },
  {
   "cell_type": "code",
   "execution_count": null,
   "id": "78dd46d7",
   "metadata": {},
   "outputs": [],
   "source": [
    "len(example[f\"ner_tags\"]), len(tokenized_input[\"input_ids\"])  # type: ignore"
   ]
  },
  {
   "cell_type": "code",
   "execution_count": null,
   "id": "2ff516f1",
   "metadata": {},
   "outputs": [],
   "source": [
    "word_ids = tokenized_input.word_ids()\n",
    "aligned_labels = [-100 if i is None else example[f\"ner_tags\"][i] for i in word_ids]\n",
    "print(len(aligned_labels), len(tokenized_input[\"input_ids\"]))  # type: ignore"
   ]
  },
  {
   "cell_type": "markdown",
   "id": "159f96e7",
   "metadata": {},
   "source": [
    "## Training\n"
   ]
  },
  {
   "cell_type": "code",
   "execution_count": null,
   "id": "5bbe2e07",
   "metadata": {},
   "outputs": [],
   "source": [
    "tokenized_dataset = tokenize_dataset(dataset, tokenizer)\n",
    "tokenized_dataset"
   ]
  },
  {
   "cell_type": "code",
   "execution_count": null,
   "id": "380c4cf1",
   "metadata": {},
   "outputs": [],
   "source": [
    "os.environ.setdefault('TOKENIZERS_PARALLELISM', 'true')\n",
    "metric = evaluate.load(\"seqeval\")\n",
    "data_collator = DataCollatorForTokenClassification(tokenizer)\n",
    "\n",
    "def compute_metrics(p):\n",
    "    predictions, labels = p\n",
    "    predictions = np.argmax(predictions, axis=2)\n",
    "\n",
    "    # Remove ignored index (special tokens)\n",
    "    true_predictions = [\n",
    "        [label_list[p] for (p, l) in zip(prediction, label) if l != -100]\n",
    "        for prediction, label in zip(predictions, labels)\n",
    "    ]\n",
    "    true_labels = [\n",
    "        [label_list[l] for (p, l) in zip(prediction, label) if l != -100]\n",
    "        for prediction, label in zip(predictions, labels)\n",
    "    ]\n",
    "\n",
    "    results = metric.compute(predictions=true_predictions, references=true_labels)\n",
    "    assert results != None\n",
    "    return {\n",
    "        \"precision\": results[\"overall_precision\"],\n",
    "        \"recall\": results[\"overall_recall\"],\n",
    "        \"f1\": results[\"overall_f1\"],\n",
    "        \"accuracy\": results[\"overall_accuracy\"],\n",
    "    }\n",
    "\n",
    "\n",
    "args = TrainingArguments(\n",
    "    output_dir=str(save_path),\n",
    "    run_name=Path(save_path).name,\n",
    "    overwrite_output_dir=True,\n",
    "    eval_strategy=\"epoch\",\n",
    "    save_strategy=\"epoch\",\n",
    "    logging_steps=50,\n",
    "    save_total_limit=1,\n",
    "    learning_rate=2e-5,\n",
    "    per_device_train_batch_size=BATCH_SIZE,\n",
    "    per_device_eval_batch_size=BATCH_SIZE,\n",
    "    gradient_accumulation_steps=4,\n",
    "    num_train_epochs=NUM_EPOCHS,\n",
    "    weight_decay=0.001,\n",
    "    metric_for_best_model=\"f1\",\n",
    "    load_best_model_at_end=True,\n",
    ")\n",
    "\n",
    "\n",
    "trainer = Trainer(\n",
    "    model,\n",
    "    args,\n",
    "    train_dataset=tokenized_dataset[\"train\"],  # type: ignore\n",
    "    eval_dataset=tokenized_dataset[\"validation\"],  # type: ignore\n",
    "    data_collator=data_collator,\n",
    "    tokenizer=tokenizer,\n",
    "    compute_metrics=compute_metrics,\n",
    "    callbacks=[EarlyStoppingCallback(early_stopping_patience=3)],\n",
    ")\n",
    "\n",
    "torch.mps.empty_cache()"
   ]
  },
  {
   "cell_type": "code",
   "execution_count": null,
   "id": "2f6480bb",
   "metadata": {},
   "outputs": [],
   "source": [
    "trainer.train()"
   ]
  }
 ],
 "metadata": {
  "kernelspec": {
   "display_name": "Python 3 (ipykernel)",
   "language": "python",
   "name": "python3"
  },
  "language_info": {
   "codemirror_mode": {
    "name": "ipython",
    "version": 3
   },
   "file_extension": ".py",
   "mimetype": "text/x-python",
   "name": "python",
   "nbconvert_exporter": "python",
   "pygments_lexer": "ipython3",
   "version": "3.11.9"
  }
 },
 "nbformat": 4,
 "nbformat_minor": 5
}
